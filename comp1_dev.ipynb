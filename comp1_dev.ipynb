{
 "cells": [
  {
   "cell_type": "markdown",
   "metadata": {},
   "source": [
    "# Imports"
   ]
  },
  {
   "cell_type": "code",
   "execution_count": 1,
   "metadata": {},
   "outputs": [],
   "source": [
    "import os\n",
    "\n",
    "import numpy as np\n",
    "import pandas as pd\n",
    "import matplotlib.pyplot as plt\n",
    "from matplotlib.patches import Patch\n",
    "from ipywidgets import interact, SelectionSlider\n",
    "\n",
    "plt.rcParams[\"figure.figsize\"] = (16, 4)"
   ]
  },
  {
   "cell_type": "markdown",
   "metadata": {},
   "source": [
    "# Data load"
   ]
  },
  {
   "cell_type": "markdown",
   "metadata": {},
   "source": [
    "Load train and test sets from respective .csv files"
   ]
  },
  {
   "cell_type": "code",
   "execution_count": 2,
   "metadata": {},
   "outputs": [],
   "source": [
    "train_df = pd.read_csv(\"train.csv\", index_col=\"S.No\").drop_duplicates() # drop duplicate rows for training set\n",
    "test_df = pd.read_csv(\"test.csv\", index_col=\"S.No\")"
   ]
  },
  {
   "cell_type": "markdown",
   "metadata": {},
   "source": [
    "# Exploration"
   ]
  },
  {
   "cell_type": "markdown",
   "metadata": {},
   "source": [
    "interactive widget to explore distributions and pairwise relationships"
   ]
  },
  {
   "cell_type": "code",
   "execution_count": 3,
   "metadata": {},
   "outputs": [
    {
     "data": {
      "application/vnd.jupyter.widget-view+json": {
       "model_id": "9f6760c5d72241ea985e85c25e97a8c0",
       "version_major": 2,
       "version_minor": 0
      },
      "text/plain": [
       "interactive(children=(SelectionSlider(description='col1', options=('lat', 'lon', 'TMQ', 'U850', 'V850', 'UBOT'…"
      ]
     },
     "metadata": {},
     "output_type": "display_data"
    }
   ],
   "source": [
    "@interact(\n",
    "    col1 = SelectionSlider(options=train_df.columns),\n",
    "    col2 = SelectionSlider(options=train_df.columns),\n",
    "    \n",
    ")\n",
    "def explore_scatter(col1, col2):\n",
    "    fig, ax = plt.subplots(1, 3)\n",
    "    \n",
    "    ax[0].scatter(train_df[col1], train_df[col2], c=train_df.LABELS)\n",
    "    ax[1].hist(train_df[col1])\n",
    "    ax[1].set_title(\"train \" + col1)\n",
    "    ax[2].hist(train_df[col2])\n",
    "    ax[2].set_title(\"train \" + col2)"
   ]
  },
  {
   "cell_type": "markdown",
   "metadata": {},
   "source": [
    "# Data preparation"
   ]
  },
  {
   "cell_type": "markdown",
   "metadata": {},
   "source": [
    "## prepare X data\n",
    "transform features"
   ]
  },
  {
   "cell_type": "code",
   "execution_count": 4,
   "metadata": {},
   "outputs": [],
   "source": [
    "def _scale_01(array):\n",
    "    # to scale ordinal features, or bins\n",
    "    return (array - np.min(array)) / (np.max(array) - np.min(array))\n",
    "\n",
    "def select_feature_subset(df, features_idx):\n",
    "    # pass a list of column indices to filter features\n",
    "    filtered_df = df.iloc[:, features_idx].copy()\n",
    "    # if the dataframe contains \"LABELS\", add it back\n",
    "    # this means the train set was passed\n",
    "    if \"LABELS\" in df.columns:\n",
    "        filtered_df[\"LABELS\"] = df[\"LABELS\"]\n",
    "    \n",
    "    return filtered_df\n",
    "\n",
    "def drop_feature_subset(df, feature_list):\n",
    "    # drop features passed in feature_list\n",
    "    filtered_df = df.copy().drop(columns=feature_list)\n",
    "    return filtered_df\n",
    "\n",
    "def normalize_features(train_df, test_df, cols=['T200', 'TMQ', 'U850', 'V850', 'UBOT',\n",
    "                                                'VBOT', 'QREFHT', 'PS', 'PSL']):\n",
    "    train_norm = train_df[cols]\n",
    "    test_norm = test_df[cols]\n",
    "\n",
    "    train_mu = train_norm.mean(axis=0)\n",
    "    train_sigma = train_norm.std(axis=0)\n",
    "    # remove the train mean and standard deviation from the test set to avoid leakage\n",
    "    train_norm = (train_norm - train_mu) / train_sigma\n",
    "    test_norm = (test_norm - train_mu) / train_sigma\n",
    "    \n",
    "    train_df[cols] = train_norm\n",
    "    test_df[cols] = test_norm\n",
    "    return train_df, test_df\n",
    "\n",
    "def standardize_squareroot(train_df, test_df, cols=[\"T500\", \"TREFHT\", \"Z1000\", \"Z200\", \"ZBOT\", \"TS\"]):\n",
    "    # transforms positive skew using squareroot\n",
    "    pos_skew = [\"Z1000\"]\n",
    "    train_df[pos_skew] = np.sqrt(train_df[pos_skew])\n",
    "    test_df[pos_skew] = np.sqrt(test_df[pos_skew])\n",
    "    # transforms negative skew using power 2\n",
    "    neg_skew = [\"T500\", \"TREFHT\", \"Z200\", \"ZBOT\", \"TS\"]\n",
    "    train_df[neg_skew] = np.power(train_df[neg_skew], 2)\n",
    "    test_df[neg_skew] = np.power(test_df[neg_skew], 2)\n",
    "    \n",
    "    return normalize_features(train_df, test_df, cols=cols)\n",
    "\n",
    "def bin_lat_lon(train_df, test_df):\n",
    "    # separated lat into 2 bins, and lon into 3 bins\n",
    "    # bins are then one-hot encoded\n",
    "    def _bin(df):\n",
    "        positive_lat = df.lat + np.abs(df.lat.min())\n",
    "        lat_bins = [0, 30, positive_lat.max()]\n",
    "        binned_lat = pd.cut(positive_lat, bins=lat_bins, right=True)\n",
    "        df[[\"lat_bin0\", \"lat_bin1\"]] = pd.get_dummies(binned_lat, columns=[\"lat_bin0\", \"lat_bin1\"], dtype=float)\n",
    "        df = df.drop(columns=\"lat\")\n",
    "        \n",
    "        lon_bins = [0, 260, 300, df.lon.max()]\n",
    "        binned_lon = pd.cut(df.lon, bins=lon_bins, right=True)\n",
    "        df[[\"lon_bin0\", \"lon_bin1\", \"lon_bin2\"]] = pd.get_dummies(binned_lon, columns=[\"lon_bin0\", \"lon_bin1\", \"lon_bin2\"], dtype=float)\n",
    "        df = df.drop(columns=\"lon\")\n",
    "        return df\n",
    "    \n",
    "    return _bin(train_df), _bin(test_df)\n",
    "\n",
    "def bin_prect(train_df, test_df):\n",
    "    # log transform prect, then bin it, then scale 0-1\n",
    "    def _bin(df):\n",
    "        prect = df.PRECT.values * 1e23\n",
    "        prect[prect>0] = np.log(prect[prect>0])\n",
    "        hist, bin_e = np.histogram(prect, bins=100)\n",
    "        binned = pd.cut(prect, bins=bin_e, right=False)\n",
    "\n",
    "        df[\"bin_PRECT\"] = pd.Series(binned, index=df.index).cat.codes.astype(float)\n",
    "        df[\"bin_PRECT\"] = _scale_01(df[\"bin_PRECT\"])\n",
    "        df = df.drop(columns=\"PRECT\")\n",
    "        return df\n",
    "    \n",
    "    return _bin(train_df), _bin(test_df)\n",
    "\n",
    "def format_date(train_df, test_df):\n",
    "    # create year and month columns and drop time column\n",
    "    def _format(df):\n",
    "        time =pd.to_datetime(df[\"time\"], format=\"%Y%m%d\")\n",
    "        df[\"year\"] = time.dt.year\n",
    "        df[\"month\"] = time.dt.month\n",
    "        df = df.drop(columns=\"time\")\n",
    "\n",
    "        df[\"year\"] = _scale_01(df[\"year\"])\n",
    "        df[\"month\"] = _scale_01(df[\"month\"])\n",
    "        return df\n",
    "    \n",
    "    return _format(train_df), _format(test_df)\n",
    "    "
   ]
  },
  {
   "cell_type": "markdown",
   "metadata": {},
   "source": [
    "## prepare Y data"
   ]
  },
  {
   "cell_type": "code",
   "execution_count": 5,
   "metadata": {},
   "outputs": [],
   "source": [
    "def filter_two_classes(df, label1, label2):\n",
    "    # filter DataFrame to two classes\n",
    "    return df.loc[df[\"LABELS\"].isin([label1, label2])].copy()\n",
    "\n",
    "def balanced_undersampling(df):\n",
    "    # undersample a dataframe to have balanced classes\n",
    "    # returns the number of examples for the least frequent class\n",
    "    n_min_cls = df.LABELS.value_counts().min()\n",
    "    # group by label, then sample n_min_cls examples\n",
    "    sampled_df = df.groupby(\"LABELS\").sample(n_min_cls)\n",
    "    return sampled_df\n",
    "\n",
    "def binary_xy_split(df, sign=False):  \n",
    "    x = df.loc[:, df.columns != \"LABELS\"].values \n",
    "    y = df.loc[:, \"LABELS\"].values\n",
    "    y = y // y.max() # set y values to 0 and 1\n",
    "    \n",
    "    if sign:\n",
    "        y[y==0] -= 1\n",
    "    \n",
    "    return x, y\n",
    "\n",
    "def multiclass_xy_split(df):\n",
    "    labels = list(df.LABELS.unique())\n",
    "    df[labels] = pd.get_dummies(df.LABELS) # one-hot encode LABELS column\n",
    "    df = df.drop(columns=[\"LABELS\"])\n",
    "\n",
    "    x = df.loc[:, ~df.columns.isin(labels)].values \n",
    "    y = df.loc[:, labels].values\n",
    "    \n",
    "    return x, y"
   ]
  },
  {
   "cell_type": "markdown",
   "metadata": {},
   "source": [
    "## dataset preprocessing"
   ]
  },
  {
   "cell_type": "code",
   "execution_count": 6,
   "metadata": {},
   "outputs": [],
   "source": [
    "def preprocess_binary(train_df, test_df, label1, label2,\n",
    "                      balanced_sampling=None, normalize=True, standardize=False, binning=False,\n",
    "                      date=False, feature_subset=None, drop_subset=None):\n",
    "    # harness for preprocessing for binary classification\n",
    "    train_df = filter_two_classes(train_df, label1, label2)\n",
    "    \n",
    "    if balanced_sampling == \"under\":\n",
    "        train_df = balanced_undersampling(train_df)\n",
    "    \n",
    "    if normalize:\n",
    "        if standardize:\n",
    "            train_df, test_df = normalize_features(train_df, test_df)\n",
    "            train_df, test_df = standardize_squareroot(train_df, test_df)\n",
    "        else: \n",
    "            cols = ['T200', 'TMQ', 'U850', 'V850', 'UBOT', 'VBOT', 'QREFHT',\n",
    "                    'PS', 'PSL', \"T500\", \"TREFHT\", \"Z1000\", \"Z200\", \"ZBOT\", \"TS\"]\n",
    "            train_df, test_df = normalize_features(train_df, test_df, cols=cols)\n",
    "    \n",
    "    if binning:\n",
    "        train_df, test_df = bin_lat_lon(train_df, test_df)\n",
    "        train_df, test_df = bin_prect(train_df, test_df)\n",
    "    else:\n",
    "        train_df, test_df = normalize_features(train_df, test_df, cols=[\"lat\", \"lon\"])\n",
    "            \n",
    "    if date:\n",
    "        train_df, test_df = format_date(train_df, test_df)\n",
    "    else:\n",
    "        train_df, test_df = train_df.drop(columns=[\"time\"]), test_df.drop(columns=[\"time\"])\n",
    "\n",
    "    if feature_subset:   \n",
    "        train_df = select_feature_subset(train_df, feature_subset)\n",
    "        test_df = select_feature_subset(test_df, feature_subset)\n",
    "    \n",
    "    if drop_subset:\n",
    "        train_df = drop_feature_subset(train_df, drop_subset)\n",
    "        test_df = drop_feature_subset(test_df, drop_subset)\n",
    "\n",
    "    return train_df, test_df\n",
    "\n",
    "\n",
    "def preprocess_multiclass(train_df, test_df,\n",
    "                          balanced_sampling=None, normalize=True, standardize=False, binning=False,\n",
    "                          date=False, feature_subset=None, drop_subset=None):\n",
    "    # harness for preprocessing for multiclass classification\n",
    "    if balanced_sampling == \"under\":\n",
    "        train_df = balanced_undersampling(train_df)\n",
    "    \n",
    "    if normalize:\n",
    "        if standardize:\n",
    "            train_df, test_df = normalize_features(train_df, test_df)\n",
    "            train_df, test_df = standardize_squareroot(train_df, test_df)\n",
    "        else: \n",
    "            cols = ['T200', 'TMQ', 'U850', 'V850', 'UBOT', 'VBOT', 'QREFHT',\n",
    "                    'PS', 'PSL', \"T500\", \"TREFHT\", \"Z1000\", \"Z200\", \"ZBOT\", \"TS\"]\n",
    "            train_df, test_df = normalize_features(train_df, test_df, cols=cols)\n",
    "    \n",
    "    if binning:\n",
    "        train_df, test_df = bin_lat_lon(train_df, test_df)\n",
    "        train_df, test_df = bin_prect(train_df, test_df)\n",
    "    else:\n",
    "        train_df, test_df = normalize_features(train_df, test_df, cols=[\"lat\", \"lon\"])\n",
    "            \n",
    "    if date:\n",
    "        train_df, test_df = format_date(train_df, test_df)\n",
    "    else:\n",
    "        train_df, test_df = train_df.drop(columns=[\"time\"]), test_df.drop(columns=[\"time\"])\n",
    "\n",
    "    if feature_subset:   \n",
    "        train_df = select_feature_subset(train_df, feature_subset)\n",
    "        test_df = select_feature_subset(test_df, feature_subset)\n",
    "    \n",
    "    if drop_subset:\n",
    "        train_df = drop_feature_subset(train_df, drop_subset)\n",
    "        test_df = drop_feature_subset(test_df, drop_subset)\n",
    "    \n",
    "    return train_df, test_df\n",
    "\n",
    "\n",
    "def cross_validation_harness(train_df, ratio=0.2):\n",
    "    # cross-validation by taking 1-ratio for training and ratio for validation\n",
    "    shuffled_df = train_df.copy().sample(frac=1)\n",
    "    n_train = np.floor(train_df.LABELS.value_counts() * (1-ratio)).astype(int)\n",
    "    \n",
    "    new_train_df = pd.DataFrame(columns=train_df.columns)\n",
    "    validation_df = pd.DataFrame(columns=train_df.columns)\n",
    "    \n",
    "    for label in train_df.LABELS.unique().astype(int):\n",
    "        new_train_df = new_train_df.append(shuffled_df.loc[shuffled_df[\"LABELS\"]==label][:n_train[label]])\n",
    "        validation_df = validation_df.append(shuffled_df.loc[shuffled_df[\"LABELS\"]==label][n_train[label]:])\n",
    "        \n",
    "    return new_train_df, validation_df"
   ]
  },
  {
   "cell_type": "code",
   "execution_count": 7,
   "metadata": {},
   "outputs": [],
   "source": [
    "def plot_feature_correlation_matrix(x_array):\n",
    "    #plot correlation matrix\n",
    "    plt.figure()\n",
    "\n",
    "    covar = np.cov(x_array.T)\n",
    "    features = list(range(x_array.shape[1]))\n",
    "    plt.imshow(covar)\n",
    "    plt.xticks(features)\n",
    "    plt.yticks(features)\n",
    "    plt.colorbar()\n",
    "\n",
    "    plt.show()"
   ]
  },
  {
   "cell_type": "code",
   "execution_count": 8,
   "metadata": {},
   "outputs": [],
   "source": [
    "pre_train, pre_test = preprocess_multiclass(train_df, test_df, normalize=True, standardize=False, binning=False, date=False)\n",
    "pre_train, pre_validation = cross_validation_harness(pre_train)\n",
    "x_train, y_train = multiclass_xy_split(pre_train)\n",
    "x_validation, y_validation = multiclass_xy_split(pre_validation)\n",
    "x_test = pre_test.values"
   ]
  },
  {
   "cell_type": "code",
   "execution_count": 9,
   "metadata": {},
   "outputs": [
    {
     "data": {
      "image/png": "[encoded data removed]",
      "text/plain": [
       "<Figure size 1152x288 with 2 Axes>"
      ]
     },
     "metadata": {
      "needs_background": "light"
     },
     "output_type": "display_data"
    }
   ],
   "source": [
    "plot_feature_correlation_matrix(x_train)"
   ]
  },
  {
   "cell_type": "code",
   "execution_count": 10,
   "metadata": {},
   "outputs": [
    {
     "data": {
      "application/vnd.jupyter.widget-view+json": {
       "model_id": "f450ac6f64fe4cc4bb5b2dcbcd597d93",
       "version_major": 2,
       "version_minor": 0
      },
      "text/plain": [
       "interactive(children=(SelectionSlider(description='col1', options=(0, 1, 2, 3, 4, 5, 6, 7, 8, 9, 10, 11, 12, 1…"
      ]
     },
     "metadata": {},
     "output_type": "display_data"
    }
   ],
   "source": [
    "@interact(\n",
    "    col1 = SelectionSlider(options=np.arange(x_train.shape[1])),\n",
    "    col2 = SelectionSlider(options=np.arange(x_train.shape[1])),\n",
    "    \n",
    ")\n",
    "def explore_scatter(col1, col2):\n",
    "    fig, ax = plt.subplots(1, 3)\n",
    "    \n",
    "    ax[0].scatter(x_train[:, col1], x_train[:, col2], c=y_train)\n",
    "    ax[1].hist(x_train[:, col1])\n",
    "    ax[2].hist(x_train[:, col2])"
   ]
  },
  {
   "cell_type": "markdown",
   "metadata": {},
   "source": [
    "# Model"
   ]
  },
  {
   "cell_type": "markdown",
   "metadata": {},
   "source": [
    "## Softmax multiclass"
   ]
  },
  {
   "cell_type": "code",
   "execution_count": 11,
   "metadata": {},
   "outputs": [],
   "source": [
    "class MultiLogRegressor():\n",
    "    def __init__(self, eta, n_steps):\n",
    "        self.eta = eta\n",
    "        self.n_steps = n_steps\n",
    "        self.train_loss = []\n",
    "        self.train_error = []\n",
    "        self.validation_loss = []\n",
    "        self.validation_error = []\n",
    "    \n",
    "    def _linear_func(self, X):\n",
    "        return X @ self.W + self.B # (n, d) @ (d, k) + (k, ) = (n, k)\n",
    "\n",
    "    def _softmax(self, Z):\n",
    "        Z -= np.max(Z)\n",
    "        return np.exp(Z) / np.sum(np.exp(Z), axis=1, keepdims=True) # (n, k) / scalar, it divides every element in each column by sum of column\n",
    "        \n",
    "    def _loss(self, X, true_y):\n",
    "        # cross entropy loss\n",
    "        y_proba = self.predict_proba(X) # (n, k)\n",
    "        loss = -np.log(np.sum(y_proba * true_y, axis=1))\n",
    "        return np.mean(loss)\n",
    "    \n",
    "    def _error_rate(self, X, true_y):\n",
    "        y_pred = self.predict(X)\n",
    "        error_rate = np.count_nonzero(y_pred - true_y.argmax(axis=1)) / y_pred.shape[0]\n",
    "        return error_rate\n",
    "    \n",
    "    def _gradient_descent(self, X, true_y):\n",
    "        y_proba = self.predict_proba(X)\n",
    "        dW = X.T @ (y_proba - true_y) / X.shape[0]\n",
    "        dB = np.sum(y_proba - true_y, axis=0) / X.shape[0]\n",
    "        # updates the gradient\n",
    "        self.W -= self.eta * dW\n",
    "        self.B -= self.eta * dB\n",
    "        \n",
    "    def fit(self, x_train, y_train, x_validation=None, y_validation=None):\n",
    "        _, n_features = x_train.shape # n, d\n",
    "        n_cls = y_train.shape[1] # k\n",
    "        self.W = np.zeros((n_features, n_cls)) # (d, k)\n",
    "        self.B = np.zeros(n_cls) # (k, )\n",
    "        \n",
    "        for _ in range(self.n_steps):\n",
    "            self._gradient_descent(x_train, y_train)\n",
    "            self.train_loss.append(self._loss(x_train, y_train))\n",
    "            self.train_error.append(self._error_rate(x_train, y_train))\n",
    "            \n",
    "            if not (x_validation is None and y_validation is None):\n",
    "                self.validation_loss.append(self._loss(x_validation, y_validation))\n",
    "                self.validation_error.append(self._error_rate(x_validation, y_validation))\n",
    "    \n",
    "    def predict_proba(self, X):      \n",
    "        Z = self._linear_func(X)  # X is (n, d)\n",
    "        return self._softmax(Z) # (n, k)\n",
    "\n",
    "    def predict(self, X):\n",
    "        y_proba = self.predict_proba(X)\n",
    "        return y_proba.argmax(axis=1)\n",
    "\n",
    "    def plot_history(self):\n",
    "        fig, ax = plt.subplots(1, 2)\n",
    "        ax[0].plot([np.mean(loss) for loss in self.train_loss])\n",
    "        ax[0].plot([np.mean(loss) for loss in self.validation_loss])\n",
    "        ax[0].set_title(\"softmax_multiclass_loss\")\n",
    "        ax[0].legend([\"train\", \"validation\"])\n",
    "        ax[1].plot([np.mean(error) for error in self.train_error])\n",
    "        ax[1].plot([np.mean(error) for error in self.validation_error])\n",
    "        ax[1].set_title(\"softmax_multiclass_error\")\n",
    "        ax[1].legend([\"train\", \"validation\"])\n",
    "        plt.show()"
   ]
  },
  {
   "cell_type": "code",
   "execution_count": 12,
   "metadata": {},
   "outputs": [],
   "source": [
    "multi = MultiLogRegressor(0.05, 100)\n",
    "multi.fit(x_train, y_train, x_validation, y_validation)"
   ]
  },
  {
   "cell_type": "code",
   "execution_count": 13,
   "metadata": {},
   "outputs": [
    {
     "data": {
      "image/png": "[encoded data removed]",
      "text/plain": [
       "<Figure size 1152x288 with 2 Axes>"
      ]
     },
     "metadata": {
      "needs_background": "light"
     },
     "output_type": "display_data"
    }
   ],
   "source": [
    "multi.plot_history()"
   ]
  },
  {
   "cell_type": "code",
   "execution_count": 14,
   "metadata": {},
   "outputs": [
    {
     "name": "stdout",
     "output_type": "stream",
     "text": [
      "unique pred:  [0 2]\n",
      "frequency pred:  [6824  496]\n"
     ]
    }
   ],
   "source": [
    "pred_multi = multi.predict(x_test)\n",
    "u_multi, c_multi = np.unique(pred_multi, return_counts=True)\n",
    "print(\"unique pred: \", u_multi)\n",
    "print(\"frequency pred: \", c_multi)"
   ]
  },
  {
   "cell_type": "markdown",
   "metadata": {},
   "source": [
    "## One vs one scheme"
   ]
  },
  {
   "cell_type": "code",
   "execution_count": 15,
   "metadata": {},
   "outputs": [],
   "source": [
    "class LogRegressor():\n",
    "    def __init__(self, eta, n_steps):\n",
    "        self.eta = eta\n",
    "        self.n_steps = n_steps\n",
    "        self.train_loss = []\n",
    "        self.train_error = []\n",
    "        self.validation_loss = []\n",
    "        self.validation_error = []\n",
    "    \n",
    "    def _linear_func(self, X):\n",
    "        return X @ self.W + self.B\n",
    "\n",
    "    def _sigmoid(self, Z):\n",
    "        denom = 1 + np.exp(-Z)\n",
    "        return 1 / denom\n",
    "    \n",
    "    def _loss(self, X, true_y):\n",
    "        y_proba = self.predict_proba(X)\n",
    "        class_1_L = true_y * np.log(y_proba)\n",
    "        class_0_L = (1 - true_y) * np.log(1 - y_proba)\n",
    "        loss = -(class_1_L + class_0_L)\n",
    "        return np.mean(loss)\n",
    "    \n",
    "    def _error_rate(self, X, true_y):\n",
    "        y_pred = self.predict(X)\n",
    "        error_rate = np.count_nonzero(true_y - y_pred) / y_pred.shape[0]\n",
    "        return error_rate\n",
    "    \n",
    "    def _gradient_descent(self, X, true_y):\n",
    "        y_proba = self.predict_proba(X)\n",
    "        dW = X.T @ (y_proba - true_y) / X.shape[0] #\n",
    "        dB = np.sum(y_proba - true_y, axis=0) / X.shape[0]\n",
    "        self.W -= self.eta * dW\n",
    "        self.B -= self.eta * dB\n",
    "        \n",
    "        \n",
    "    def fit(self, x_train, y_train, x_validation=None, y_validation=None):\n",
    "        self.W = np.zeros(x_train.shape[1])\n",
    "        self.B = 0\n",
    "        \n",
    "        for _ in range(self.n_steps):\n",
    "            self._gradient_descent(x_train, y_train)\n",
    "            self.train_error.append(self._error_rate(x_train, y_train))\n",
    "            self.train_loss.append(self._loss(x_train, y_train))\n",
    "            \n",
    "            if (x_validation != None) & (y_validation != None):\n",
    "                self.validation_loss.append(self._loss(x_validation, y_validation))\n",
    "                self.validation_error.append(self._error_rate(x_validation, y_validation))\n",
    "    \n",
    "    def predict_proba(self, X):      \n",
    "        Z = self._linear_func(X)  \n",
    "        return self._sigmoid(Z)\n",
    "\n",
    "    def predict(self, X, threshold=0.5):\n",
    "        y_proba = self.predict_proba(X)\n",
    "        return (y_proba > threshold).astype(int)\n",
    "\n",
    "    def plot_history(self):\n",
    "        fig, ax = plt.subplots(1, 2)\n",
    "        ax[0].plot([np.mean(loss) for loss in self.train_loss])\n",
    "        ax[0].plot([np.mean(loss) for loss in self.validation_loss])\n",
    "        ax[0].set_title(\"loss\")\n",
    "        ax[0].legend([\"train\", \"validation\"])\n",
    "        ax[1].plot([np.mean(error) for error in self.train_error])\n",
    "        ax[1].plot([np.mean(error) for error in self.validation_error])\n",
    "        ax[1].set_title(\"error\")\n",
    "        ax[1].legend([\"train\", \"validation\"])\n",
    "        plt.show()"
   ]
  },
  {
   "cell_type": "code",
   "execution_count": 16,
   "metadata": {},
   "outputs": [],
   "source": [
    "class OneVOne():\n",
    "    def __init__(self, train_df, test_df):\n",
    "        self.train_df = train_df\n",
    "        self.test_df = test_df\n",
    "        \n",
    "        self.cls = list(train_df.LABELS.unique())\n",
    "        self.n_cls = len(self.cls)\n",
    "        \n",
    "        self.label_pairs = []\n",
    "        for i in range(self.n_cls):\n",
    "            for j in range(i, self.n_cls-1):\n",
    "                self.label_pairs.append((self.cls[i], self.cls[j+1]))\n",
    "        self.n_label_pairs = len(self.label_pairs)\n",
    "        \n",
    "    def preprocess(self):\n",
    "        self.train_samples = {}\n",
    "        for pair in self.label_pairs:\n",
    "            pre_train = self.train_df.loc[self.train_df.LABELS.isin(list(pair))]\n",
    "            x_train, y_train = binary_xy_split(pre_train)\n",
    "            self.train_samples[pair] = (x_train, y_train)\n",
    "            \n",
    "    def fit(self, eta, n_steps):\n",
    "        self.eta = eta\n",
    "        self.n_steps = n_steps\n",
    "        \n",
    "        self.models = {}\n",
    "        for pair in self.label_pairs:\n",
    "            x_train, y_train = self.train_samples[pair]\n",
    "            model = LogRegressor(self.eta, self.n_steps)\n",
    "            model.fit(x_train, y_train)\n",
    "            self.models[pair] = model\n",
    "\n",
    "    def predict(self, X, threshold=0.5):\n",
    "        y_votes = np.zeros((X.shape[0], self.n_cls))\n",
    "\n",
    "        for pair, model in self.models.items():\n",
    "            label_min = np.min(np.asarray(pair))\n",
    "            label_max = np.max(np.asarray(pair))\n",
    "\n",
    "            y_proba = model.predict_proba(X)\n",
    "            \n",
    "            y_votes[:, label_min] += 1-y_proba\n",
    "            y_votes[:, label_max] += y_proba\n",
    "            \n",
    "        return y_votes.argmax(axis=1)\n",
    "    \n",
    "    def plot_history(self):\n",
    "        fig, ax = plt.subplots(1, 2)\n",
    "        \n",
    "        legend_elems = []\n",
    "        \n",
    "        loop_i = 0\n",
    "        for pair, model in self.models.items():\n",
    "            ax[0].plot([np.mean(loss) for loss in model.train_loss], color=f\"C{loop_i}\")\n",
    "            ax[0].set_title(\"OneVOne_loss\")\n",
    "            \n",
    "            ax[1].plot([np.mean(error) for error in model.train_error], color=f\"C{loop_i}\")\n",
    "            ax[1].set_title(\"OneVOne_error\")\n",
    "            \n",
    "            legend_elems.append(Patch(label=str(pair), color=f\"C{loop_i}\"))\n",
    "            loop_i += 1\n",
    "            \n",
    "        ax[0].legend(handles=legend_elems)\n",
    "        ax[1].legend(handles=legend_elems)\n",
    "        \n",
    "        plt.show()"
   ]
  },
  {
   "cell_type": "code",
   "execution_count": 17,
   "metadata": {},
   "outputs": [],
   "source": [
    "# undo onehot encoding\n",
    "ovo_train = pre_train.drop(columns=[0, 1, 2])\n",
    "ovo_train.LABELS = ovo_train.LABELS.astype(int)"
   ]
  },
  {
   "cell_type": "code",
   "execution_count": 18,
   "metadata": {},
   "outputs": [],
   "source": [
    "ovo = OneVOne(ovo_train, test_df)\n",
    "ovo.preprocess()\n",
    "ovo.fit(0.05, 75)"
   ]
  },
  {
   "cell_type": "code",
   "execution_count": 19,
   "metadata": {},
   "outputs": [
    {
     "data": {
      "image/png": "[encoded data removed]",
      "text/plain": [
       "<Figure size 1152x288 with 2 Axes>"
      ]
     },
     "metadata": {
      "needs_background": "light"
     },
     "output_type": "display_data"
    }
   ],
   "source": [
    "ovo.plot_history()"
   ]
  },
  {
   "cell_type": "code",
   "execution_count": 20,
   "metadata": {},
   "outputs": [
    {
     "name": "stdout",
     "output_type": "stream",
     "text": [
      "unique pred:  [0 1 2]\n",
      "frequency pred:  [5613   86 1621]\n"
     ]
    }
   ],
   "source": [
    "pred_ovo = ovo.predict(x_test)\n",
    "u_ovo, c_ovo = np.unique(pred_ovo, return_counts=True)\n",
    "print(\"unique pred: \", u_ovo)\n",
    "print(\"frequency pred: \", c_ovo)"
   ]
  },
  {
   "cell_type": "markdown",
   "metadata": {},
   "source": [
    "## XGBoost"
   ]
  },
  {
   "cell_type": "code",
   "execution_count": 21,
   "metadata": {},
   "outputs": [],
   "source": [
    "import xgboost\n",
    "from xgboost import XGBClassifier"
   ]
  },
  {
   "cell_type": "code",
   "execution_count": 22,
   "metadata": {},
   "outputs": [],
   "source": [
    "xgb = XGBClassifier(\n",
    "    objective=\"multi:softmax\",\n",
    "    eval_metric=[\"mlogloss\", \"merror\"],\n",
    "    n_estimators=200,\n",
    "    max_depth=5,\n",
    "    eta=0.01,\n",
    "    booster=\"gbtree\",\n",
    "    tree_method=\"hist\",\n",
    "    use_label_encoder=False,\n",
    "    verbosity=0\n",
    ")"
   ]
  },
  {
   "cell_type": "code",
   "execution_count": 23,
   "metadata": {},
   "outputs": [
    {
     "name": "stdout",
     "output_type": "stream",
     "text": [
      "[0]\tvalidation_0-mlogloss:1.08996\tvalidation_0-merror:0.19694\tvalidation_1-mlogloss:1.09009\tvalidation_1-merror:0.20803\n",
      "[1]\tvalidation_0-mlogloss:1.08145\tvalidation_0-merror:0.19694\tvalidation_1-mlogloss:1.08172\tvalidation_1-merror:0.20803\n",
      "[2]\tvalidation_0-mlogloss:1.07310\tvalidation_0-merror:0.19612\tvalidation_1-mlogloss:1.07349\tvalidation_1-merror:0.20842\n",
      "[3]\tvalidation_0-mlogloss:1.06484\tvalidation_0-merror:0.19626\tvalidation_1-mlogloss:1.06538\tvalidation_1-merror:0.20862\n",
      "[4]\tvalidation_0-mlogloss:1.05672\tvalidation_0-merror:0.19626\tvalidation_1-mlogloss:1.05741\tvalidation_1-merror:0.20803\n",
      "[5]\tvalidation_0-mlogloss:1.04873\tvalidation_0-merror:0.19626\tvalidation_1-mlogloss:1.04957\tvalidation_1-merror:0.20862\n",
      "[6]\tvalidation_0-mlogloss:1.04087\tvalidation_0-merror:0.19549\tvalidation_1-mlogloss:1.04185\tvalidation_1-merror:0.20706\n",
      "[7]\tvalidation_0-mlogloss:1.03314\tvalidation_0-merror:0.19583\tvalidation_1-mlogloss:1.03425\tvalidation_1-merror:0.20726\n",
      "[8]\tvalidation_0-mlogloss:1.02553\tvalidation_0-merror:0.19554\tvalidation_1-mlogloss:1.02680\tvalidation_1-merror:0.20668\n",
      "[9]\tvalidation_0-mlogloss:1.01804\tvalidation_0-merror:0.19490\tvalidation_1-mlogloss:1.01944\tvalidation_1-merror:0.20648\n",
      "[10]\tvalidation_0-mlogloss:1.01066\tvalidation_0-merror:0.19500\tvalidation_1-mlogloss:1.01221\tvalidation_1-merror:0.20706\n",
      "[11]\tvalidation_0-mlogloss:1.00340\tvalidation_0-merror:0.19476\tvalidation_1-mlogloss:1.00508\tvalidation_1-merror:0.20765\n",
      "[12]\tvalidation_0-mlogloss:0.99627\tvalidation_0-merror:0.19495\tvalidation_1-mlogloss:0.99808\tvalidation_1-merror:0.20668\n",
      "[13]\tvalidation_0-mlogloss:0.98923\tvalidation_0-merror:0.19486\tvalidation_1-mlogloss:0.99118\tvalidation_1-merror:0.20648\n",
      "[14]\tvalidation_0-mlogloss:0.98230\tvalidation_0-merror:0.19476\tvalidation_1-mlogloss:0.98440\tvalidation_1-merror:0.20648\n",
      "[15]\tvalidation_0-mlogloss:0.97547\tvalidation_0-merror:0.19486\tvalidation_1-mlogloss:0.97772\tvalidation_1-merror:0.20609\n",
      "[16]\tvalidation_0-mlogloss:0.96876\tvalidation_0-merror:0.19495\tvalidation_1-mlogloss:0.97113\tvalidation_1-merror:0.20629\n",
      "[17]\tvalidation_0-mlogloss:0.96214\tvalidation_0-merror:0.19471\tvalidation_1-mlogloss:0.96466\tvalidation_1-merror:0.20629\n",
      "[18]\tvalidation_0-mlogloss:0.95559\tvalidation_0-merror:0.19398\tvalidation_1-mlogloss:0.95825\tvalidation_1-merror:0.20551\n",
      "[19]\tvalidation_0-mlogloss:0.94916\tvalidation_0-merror:0.19403\tvalidation_1-mlogloss:0.95198\tvalidation_1-merror:0.20512\n",
      "[20]\tvalidation_0-mlogloss:0.94283\tvalidation_0-merror:0.19408\tvalidation_1-mlogloss:0.94580\tvalidation_1-merror:0.20512\n",
      "[21]\tvalidation_0-mlogloss:0.93657\tvalidation_0-merror:0.19408\tvalidation_1-mlogloss:0.93969\tvalidation_1-merror:0.20551\n",
      "[22]\tvalidation_0-mlogloss:0.93039\tvalidation_0-merror:0.19476\tvalidation_1-mlogloss:0.93366\tvalidation_1-merror:0.20745\n",
      "[23]\tvalidation_0-mlogloss:0.92434\tvalidation_0-merror:0.19486\tvalidation_1-mlogloss:0.92775\tvalidation_1-merror:0.20745\n",
      "[24]\tvalidation_0-mlogloss:0.91831\tvalidation_0-merror:0.19466\tvalidation_1-mlogloss:0.92188\tvalidation_1-merror:0.20765\n",
      "[25]\tvalidation_0-mlogloss:0.91241\tvalidation_0-merror:0.19525\tvalidation_1-mlogloss:0.91614\tvalidation_1-merror:0.20745\n",
      "[26]\tvalidation_0-mlogloss:0.90661\tvalidation_0-merror:0.19466\tvalidation_1-mlogloss:0.91049\tvalidation_1-merror:0.20532\n",
      "[27]\tvalidation_0-mlogloss:0.90087\tvalidation_0-merror:0.19476\tvalidation_1-mlogloss:0.90491\tvalidation_1-merror:0.20570\n",
      "[28]\tvalidation_0-mlogloss:0.89521\tvalidation_0-merror:0.19330\tvalidation_1-mlogloss:0.89939\tvalidation_1-merror:0.20454\n",
      "[29]\tvalidation_0-mlogloss:0.88960\tvalidation_0-merror:0.19384\tvalidation_1-mlogloss:0.89392\tvalidation_1-merror:0.20551\n",
      "[30]\tvalidation_0-mlogloss:0.88409\tvalidation_0-merror:0.19393\tvalidation_1-mlogloss:0.88855\tvalidation_1-merror:0.20609\n",
      "[31]\tvalidation_0-mlogloss:0.87867\tvalidation_0-merror:0.19272\tvalidation_1-mlogloss:0.88326\tvalidation_1-merror:0.20260\n",
      "[32]\tvalidation_0-mlogloss:0.87328\tvalidation_0-merror:0.19015\tvalidation_1-mlogloss:0.87801\tvalidation_1-merror:0.19969\n",
      "[33]\tvalidation_0-mlogloss:0.86800\tvalidation_0-merror:0.19005\tvalidation_1-mlogloss:0.87285\tvalidation_1-merror:0.20047\n",
      "[34]\tvalidation_0-mlogloss:0.86280\tvalidation_0-merror:0.19117\tvalidation_1-mlogloss:0.86779\tvalidation_1-merror:0.20299\n",
      "[35]\tvalidation_0-mlogloss:0.85766\tvalidation_0-merror:0.19214\tvalidation_1-mlogloss:0.86276\tvalidation_1-merror:0.20279\n",
      "[36]\tvalidation_0-mlogloss:0.85259\tvalidation_0-merror:0.19102\tvalidation_1-mlogloss:0.85782\tvalidation_1-merror:0.20047\n",
      "[37]\tvalidation_0-mlogloss:0.84759\tvalidation_0-merror:0.19136\tvalidation_1-mlogloss:0.85293\tvalidation_1-merror:0.20260\n",
      "[38]\tvalidation_0-mlogloss:0.84264\tvalidation_0-merror:0.19132\tvalidation_1-mlogloss:0.84812\tvalidation_1-merror:0.20221\n",
      "[39]\tvalidation_0-mlogloss:0.83778\tvalidation_0-merror:0.19151\tvalidation_1-mlogloss:0.84338\tvalidation_1-merror:0.20221\n",
      "[40]\tvalidation_0-mlogloss:0.83297\tvalidation_0-merror:0.19156\tvalidation_1-mlogloss:0.83869\tvalidation_1-merror:0.20144\n",
      "[41]\tvalidation_0-mlogloss:0.82822\tvalidation_0-merror:0.19170\tvalidation_1-mlogloss:0.83405\tvalidation_1-merror:0.20124\n",
      "[42]\tvalidation_0-mlogloss:0.82351\tvalidation_0-merror:0.19165\tvalidation_1-mlogloss:0.82944\tvalidation_1-merror:0.20124\n",
      "[43]\tvalidation_0-mlogloss:0.81888\tvalidation_0-merror:0.19161\tvalidation_1-mlogloss:0.82494\tvalidation_1-merror:0.20241\n",
      "[44]\tvalidation_0-mlogloss:0.81432\tvalidation_0-merror:0.19146\tvalidation_1-mlogloss:0.82047\tvalidation_1-merror:0.20241\n",
      "[45]\tvalidation_0-mlogloss:0.80982\tvalidation_0-merror:0.19146\tvalidation_1-mlogloss:0.81608\tvalidation_1-merror:0.20241\n",
      "[46]\tvalidation_0-mlogloss:0.80539\tvalidation_0-merror:0.19107\tvalidation_1-mlogloss:0.81175\tvalidation_1-merror:0.20241\n",
      "[47]\tvalidation_0-mlogloss:0.80099\tvalidation_0-merror:0.19107\tvalidation_1-mlogloss:0.80748\tvalidation_1-merror:0.20279\n",
      "[48]\tvalidation_0-mlogloss:0.79665\tvalidation_0-merror:0.19146\tvalidation_1-mlogloss:0.80324\tvalidation_1-merror:0.20279\n",
      "[49]\tvalidation_0-mlogloss:0.79238\tvalidation_0-merror:0.19243\tvalidation_1-mlogloss:0.79906\tvalidation_1-merror:0.20357\n",
      "[50]\tvalidation_0-mlogloss:0.78818\tvalidation_0-merror:0.19243\tvalidation_1-mlogloss:0.79495\tvalidation_1-merror:0.20357\n",
      "[51]\tvalidation_0-mlogloss:0.78401\tvalidation_0-merror:0.19199\tvalidation_1-mlogloss:0.79090\tvalidation_1-merror:0.20357\n",
      "[52]\tvalidation_0-mlogloss:0.77990\tvalidation_0-merror:0.19253\tvalidation_1-mlogloss:0.78688\tvalidation_1-merror:0.20357\n",
      "[53]\tvalidation_0-mlogloss:0.77583\tvalidation_0-merror:0.19248\tvalidation_1-mlogloss:0.78292\tvalidation_1-merror:0.20357\n",
      "[54]\tvalidation_0-mlogloss:0.77180\tvalidation_0-merror:0.19267\tvalidation_1-mlogloss:0.77899\tvalidation_1-merror:0.20357\n",
      "[55]\tvalidation_0-mlogloss:0.76779\tvalidation_0-merror:0.19195\tvalidation_1-mlogloss:0.77509\tvalidation_1-merror:0.20338\n",
      "[56]\tvalidation_0-mlogloss:0.76387\tvalidation_0-merror:0.19277\tvalidation_1-mlogloss:0.77125\tvalidation_1-merror:0.20415\n",
      "[57]\tvalidation_0-mlogloss:0.75998\tvalidation_0-merror:0.19282\tvalidation_1-mlogloss:0.76746\tvalidation_1-merror:0.20377\n",
      "[58]\tvalidation_0-mlogloss:0.75615\tvalidation_0-merror:0.19262\tvalidation_1-mlogloss:0.76374\tvalidation_1-merror:0.20396\n",
      "[59]\tvalidation_0-mlogloss:0.75234\tvalidation_0-merror:0.19248\tvalidation_1-mlogloss:0.76002\tvalidation_1-merror:0.20357\n",
      "[60]\tvalidation_0-mlogloss:0.74862\tvalidation_0-merror:0.19190\tvalidation_1-mlogloss:0.75639\tvalidation_1-merror:0.20318\n",
      "[61]\tvalidation_0-mlogloss:0.74491\tvalidation_0-merror:0.19146\tvalidation_1-mlogloss:0.75280\tvalidation_1-merror:0.20202\n",
      "[62]\tvalidation_0-mlogloss:0.74128\tvalidation_0-merror:0.19098\tvalidation_1-mlogloss:0.74926\tvalidation_1-merror:0.20202\n",
      "[63]\tvalidation_0-mlogloss:0.73767\tvalidation_0-merror:0.19044\tvalidation_1-mlogloss:0.74574\tvalidation_1-merror:0.20124\n",
      "[64]\tvalidation_0-mlogloss:0.73412\tvalidation_0-merror:0.19054\tvalidation_1-mlogloss:0.74230\tvalidation_1-merror:0.20144\n",
      "[65]\tvalidation_0-mlogloss:0.73062\tvalidation_0-merror:0.19049\tvalidation_1-mlogloss:0.73889\tvalidation_1-merror:0.20144\n",
      "[66]\tvalidation_0-mlogloss:0.72716\tvalidation_0-merror:0.19049\tvalidation_1-mlogloss:0.73555\tvalidation_1-merror:0.20144\n",
      "[67]\tvalidation_0-mlogloss:0.72374\tvalidation_0-merror:0.19039\tvalidation_1-mlogloss:0.73222\tvalidation_1-merror:0.20105\n",
      "[68]\tvalidation_0-mlogloss:0.72033\tvalidation_0-merror:0.19025\tvalidation_1-mlogloss:0.72891\tvalidation_1-merror:0.20144\n",
      "[69]\tvalidation_0-mlogloss:0.71700\tvalidation_0-merror:0.19049\tvalidation_1-mlogloss:0.72566\tvalidation_1-merror:0.20144\n",
      "[70]\tvalidation_0-mlogloss:0.71371\tvalidation_0-merror:0.19005\tvalidation_1-mlogloss:0.72246\tvalidation_1-merror:0.20260\n",
      "[71]\tvalidation_0-mlogloss:0.71046\tvalidation_0-merror:0.18986\tvalidation_1-mlogloss:0.71929\tvalidation_1-merror:0.20260\n",
      "[72]\tvalidation_0-mlogloss:0.70724\tvalidation_0-merror:0.18952\tvalidation_1-mlogloss:0.71616\tvalidation_1-merror:0.20260\n",
      "[73]\tvalidation_0-mlogloss:0.70407\tvalidation_0-merror:0.18923\tvalidation_1-mlogloss:0.71306\tvalidation_1-merror:0.20202\n",
      "[74]\tvalidation_0-mlogloss:0.70093\tvalidation_0-merror:0.18913\tvalidation_1-mlogloss:0.71000\tvalidation_1-merror:0.20202\n",
      "[75]\tvalidation_0-mlogloss:0.69780\tvalidation_0-merror:0.18889\tvalidation_1-mlogloss:0.70695\tvalidation_1-merror:0.20182\n",
      "[76]\tvalidation_0-mlogloss:0.69474\tvalidation_0-merror:0.18889\tvalidation_1-mlogloss:0.70397\tvalidation_1-merror:0.20182\n",
      "[77]\tvalidation_0-mlogloss:0.69172\tvalidation_0-merror:0.18899\tvalidation_1-mlogloss:0.70104\tvalidation_1-merror:0.20221\n",
      "[78]\tvalidation_0-mlogloss:0.68874\tvalidation_0-merror:0.18870\tvalidation_1-mlogloss:0.69812\tvalidation_1-merror:0.20221\n",
      "[79]\tvalidation_0-mlogloss:0.68574\tvalidation_0-merror:0.18855\tvalidation_1-mlogloss:0.69522\tvalidation_1-merror:0.20182\n",
      "[80]\tvalidation_0-mlogloss:0.68282\tvalidation_0-merror:0.18855\tvalidation_1-mlogloss:0.69239\tvalidation_1-merror:0.20182\n",
      "[81]\tvalidation_0-mlogloss:0.67993\tvalidation_0-merror:0.18850\tvalidation_1-mlogloss:0.68959\tvalidation_1-merror:0.20182\n",
      "[82]\tvalidation_0-mlogloss:0.67709\tvalidation_0-merror:0.18889\tvalidation_1-mlogloss:0.68683\tvalidation_1-merror:0.20221\n",
      "[83]\tvalidation_0-mlogloss:0.67428\tvalidation_0-merror:0.18850\tvalidation_1-mlogloss:0.68409\tvalidation_1-merror:0.20163\n",
      "[84]\tvalidation_0-mlogloss:0.67149\tvalidation_0-merror:0.18879\tvalidation_1-mlogloss:0.68141\tvalidation_1-merror:0.20221\n",
      "[85]\tvalidation_0-mlogloss:0.66871\tvalidation_0-merror:0.18850\tvalidation_1-mlogloss:0.67874\tvalidation_1-merror:0.20182\n",
      "[86]\tvalidation_0-mlogloss:0.66600\tvalidation_0-merror:0.18860\tvalidation_1-mlogloss:0.67612\tvalidation_1-merror:0.20182\n",
      "[87]\tvalidation_0-mlogloss:0.66331\tvalidation_0-merror:0.18884\tvalidation_1-mlogloss:0.67351\tvalidation_1-merror:0.20202\n",
      "[88]\tvalidation_0-mlogloss:0.66066\tvalidation_0-merror:0.18879\tvalidation_1-mlogloss:0.67094\tvalidation_1-merror:0.20221\n",
      "[89]\tvalidation_0-mlogloss:0.65799\tvalidation_0-merror:0.18831\tvalidation_1-mlogloss:0.66837\tvalidation_1-merror:0.20182\n",
      "[90]\tvalidation_0-mlogloss:0.65538\tvalidation_0-merror:0.18845\tvalidation_1-mlogloss:0.66587\tvalidation_1-merror:0.20202\n",
      "[91]\tvalidation_0-mlogloss:0.65276\tvalidation_0-merror:0.18835\tvalidation_1-mlogloss:0.66337\tvalidation_1-merror:0.20221\n",
      "[92]\tvalidation_0-mlogloss:0.65021\tvalidation_0-merror:0.18840\tvalidation_1-mlogloss:0.66094\tvalidation_1-merror:0.20260\n",
      "[93]\tvalidation_0-mlogloss:0.64761\tvalidation_0-merror:0.18831\tvalidation_1-mlogloss:0.65844\tvalidation_1-merror:0.20260\n",
      "[94]\tvalidation_0-mlogloss:0.64511\tvalidation_0-merror:0.18850\tvalidation_1-mlogloss:0.65606\tvalidation_1-merror:0.20241\n",
      "[95]\tvalidation_0-mlogloss:0.64260\tvalidation_0-merror:0.18840\tvalidation_1-mlogloss:0.65365\tvalidation_1-merror:0.20241\n",
      "[96]\tvalidation_0-mlogloss:0.64012\tvalidation_0-merror:0.18835\tvalidation_1-mlogloss:0.65128\tvalidation_1-merror:0.20260\n",
      "[97]\tvalidation_0-mlogloss:0.63770\tvalidation_0-merror:0.18831\tvalidation_1-mlogloss:0.64894\tvalidation_1-merror:0.20260\n",
      "[98]\tvalidation_0-mlogloss:0.63524\tvalidation_0-merror:0.18792\tvalidation_1-mlogloss:0.64658\tvalidation_1-merror:0.20221\n",
      "[99]\tvalidation_0-mlogloss:0.63287\tvalidation_0-merror:0.18835\tvalidation_1-mlogloss:0.64431\tvalidation_1-merror:0.20260\n",
      "[100]\tvalidation_0-mlogloss:0.63050\tvalidation_0-merror:0.18831\tvalidation_1-mlogloss:0.64208\tvalidation_1-merror:0.20279\n",
      "[101]\tvalidation_0-mlogloss:0.62815\tvalidation_0-merror:0.18763\tvalidation_1-mlogloss:0.63982\tvalidation_1-merror:0.20221\n",
      "[102]\tvalidation_0-mlogloss:0.62585\tvalidation_0-merror:0.18768\tvalidation_1-mlogloss:0.63763\tvalidation_1-merror:0.20221\n",
      "[103]\tvalidation_0-mlogloss:0.62354\tvalidation_0-merror:0.18637\tvalidation_1-mlogloss:0.63542\tvalidation_1-merror:0.20144\n",
      "[104]\tvalidation_0-mlogloss:0.62125\tvalidation_0-merror:0.18637\tvalidation_1-mlogloss:0.63326\tvalidation_1-merror:0.20144\n",
      "[105]\tvalidation_0-mlogloss:0.61902\tvalidation_0-merror:0.18646\tvalidation_1-mlogloss:0.63115\tvalidation_1-merror:0.20144\n",
      "[106]\tvalidation_0-mlogloss:0.61678\tvalidation_0-merror:0.18603\tvalidation_1-mlogloss:0.62903\tvalidation_1-merror:0.20047\n",
      "[107]\tvalidation_0-mlogloss:0.61458\tvalidation_0-merror:0.18627\tvalidation_1-mlogloss:0.62691\tvalidation_1-merror:0.20144\n",
      "[108]\tvalidation_0-mlogloss:0.61243\tvalidation_0-merror:0.18588\tvalidation_1-mlogloss:0.62486\tvalidation_1-merror:0.20085\n",
      "[109]\tvalidation_0-mlogloss:0.61027\tvalidation_0-merror:0.18622\tvalidation_1-mlogloss:0.62281\tvalidation_1-merror:0.20182\n",
      "[110]\tvalidation_0-mlogloss:0.60812\tvalidation_0-merror:0.18598\tvalidation_1-mlogloss:0.62075\tvalidation_1-merror:0.20066\n",
      "[111]\tvalidation_0-mlogloss:0.60602\tvalidation_0-merror:0.18593\tvalidation_1-mlogloss:0.61874\tvalidation_1-merror:0.20047\n",
      "[112]\tvalidation_0-mlogloss:0.60392\tvalidation_0-merror:0.18593\tvalidation_1-mlogloss:0.61673\tvalidation_1-merror:0.20047\n",
      "[113]\tvalidation_0-mlogloss:0.60184\tvalidation_0-merror:0.18578\tvalidation_1-mlogloss:0.61474\tvalidation_1-merror:0.20027\n",
      "[114]\tvalidation_0-mlogloss:0.59983\tvalidation_0-merror:0.18569\tvalidation_1-mlogloss:0.61283\tvalidation_1-merror:0.20066\n",
      "[115]\tvalidation_0-mlogloss:0.59778\tvalidation_0-merror:0.18583\tvalidation_1-mlogloss:0.61088\tvalidation_1-merror:0.20144\n",
      "[116]\tvalidation_0-mlogloss:0.59571\tvalidation_0-merror:0.18598\tvalidation_1-mlogloss:0.60893\tvalidation_1-merror:0.20182\n",
      "[117]\tvalidation_0-mlogloss:0.59368\tvalidation_0-merror:0.18612\tvalidation_1-mlogloss:0.60699\tvalidation_1-merror:0.20241\n",
      "[118]\tvalidation_0-mlogloss:0.59169\tvalidation_0-merror:0.18583\tvalidation_1-mlogloss:0.60511\tvalidation_1-merror:0.20202\n",
      "[119]\tvalidation_0-mlogloss:0.58971\tvalidation_0-merror:0.18612\tvalidation_1-mlogloss:0.60323\tvalidation_1-merror:0.20241\n",
      "[120]\tvalidation_0-mlogloss:0.58777\tvalidation_0-merror:0.18593\tvalidation_1-mlogloss:0.60138\tvalidation_1-merror:0.20221\n",
      "[121]\tvalidation_0-mlogloss:0.58584\tvalidation_0-merror:0.18578\tvalidation_1-mlogloss:0.59955\tvalidation_1-merror:0.20202\n",
      "[122]\tvalidation_0-mlogloss:0.58393\tvalidation_0-merror:0.18593\tvalidation_1-mlogloss:0.59774\tvalidation_1-merror:0.20241\n",
      "[123]\tvalidation_0-mlogloss:0.58205\tvalidation_0-merror:0.18578\tvalidation_1-mlogloss:0.59596\tvalidation_1-merror:0.20202\n",
      "[124]\tvalidation_0-mlogloss:0.58018\tvalidation_0-merror:0.18549\tvalidation_1-mlogloss:0.59419\tvalidation_1-merror:0.20182\n",
      "[125]\tvalidation_0-mlogloss:0.57831\tvalidation_0-merror:0.18554\tvalidation_1-mlogloss:0.59243\tvalidation_1-merror:0.20221\n",
      "[126]\tvalidation_0-mlogloss:0.57648\tvalidation_0-merror:0.18520\tvalidation_1-mlogloss:0.59069\tvalidation_1-merror:0.20182\n",
      "[127]\tvalidation_0-mlogloss:0.57466\tvalidation_0-merror:0.18520\tvalidation_1-mlogloss:0.58896\tvalidation_1-merror:0.20182\n",
      "[128]\tvalidation_0-mlogloss:0.57287\tvalidation_0-merror:0.18506\tvalidation_1-mlogloss:0.58726\tvalidation_1-merror:0.20144\n",
      "[129]\tvalidation_0-mlogloss:0.57108\tvalidation_0-merror:0.18506\tvalidation_1-mlogloss:0.58559\tvalidation_1-merror:0.20144\n",
      "[130]\tvalidation_0-mlogloss:0.56934\tvalidation_0-merror:0.18501\tvalidation_1-mlogloss:0.58393\tvalidation_1-merror:0.20144\n",
      "[131]\tvalidation_0-mlogloss:0.56761\tvalidation_0-merror:0.18491\tvalidation_1-mlogloss:0.58231\tvalidation_1-merror:0.20124\n",
      "[132]\tvalidation_0-mlogloss:0.56591\tvalidation_0-merror:0.18481\tvalidation_1-mlogloss:0.58069\tvalidation_1-merror:0.20105\n",
      "[133]\tvalidation_0-mlogloss:0.56423\tvalidation_0-merror:0.18472\tvalidation_1-mlogloss:0.57910\tvalidation_1-merror:0.20105\n",
      "[134]\tvalidation_0-mlogloss:0.56256\tvalidation_0-merror:0.18452\tvalidation_1-mlogloss:0.57752\tvalidation_1-merror:0.20047\n",
      "[135]\tvalidation_0-mlogloss:0.56090\tvalidation_0-merror:0.18443\tvalidation_1-mlogloss:0.57593\tvalidation_1-merror:0.20066\n",
      "[136]\tvalidation_0-mlogloss:0.55925\tvalidation_0-merror:0.18365\tvalidation_1-mlogloss:0.57438\tvalidation_1-merror:0.20008\n",
      "[137]\tvalidation_0-mlogloss:0.55762\tvalidation_0-merror:0.18370\tvalidation_1-mlogloss:0.57284\tvalidation_1-merror:0.19988\n",
      "[138]\tvalidation_0-mlogloss:0.55602\tvalidation_0-merror:0.18375\tvalidation_1-mlogloss:0.57132\tvalidation_1-merror:0.19969\n",
      "[139]\tvalidation_0-mlogloss:0.55441\tvalidation_0-merror:0.18379\tvalidation_1-mlogloss:0.56979\tvalidation_1-merror:0.19969\n",
      "[140]\tvalidation_0-mlogloss:0.55282\tvalidation_0-merror:0.18341\tvalidation_1-mlogloss:0.56826\tvalidation_1-merror:0.19891\n",
      "[141]\tvalidation_0-mlogloss:0.55123\tvalidation_0-merror:0.18336\tvalidation_1-mlogloss:0.56676\tvalidation_1-merror:0.19891\n",
      "[142]\tvalidation_0-mlogloss:0.54968\tvalidation_0-merror:0.18341\tvalidation_1-mlogloss:0.56528\tvalidation_1-merror:0.19891\n",
      "[143]\tvalidation_0-mlogloss:0.54812\tvalidation_0-merror:0.18350\tvalidation_1-mlogloss:0.56382\tvalidation_1-merror:0.19891\n",
      "[144]\tvalidation_0-mlogloss:0.54659\tvalidation_0-merror:0.18336\tvalidation_1-mlogloss:0.56236\tvalidation_1-merror:0.19872\n",
      "[145]\tvalidation_0-mlogloss:0.54508\tvalidation_0-merror:0.18326\tvalidation_1-mlogloss:0.56093\tvalidation_1-merror:0.19814\n",
      "[146]\tvalidation_0-mlogloss:0.54356\tvalidation_0-merror:0.18355\tvalidation_1-mlogloss:0.55949\tvalidation_1-merror:0.19794\n",
      "[147]\tvalidation_0-mlogloss:0.54206\tvalidation_0-merror:0.18355\tvalidation_1-mlogloss:0.55809\tvalidation_1-merror:0.19794\n",
      "[148]\tvalidation_0-mlogloss:0.54057\tvalidation_0-merror:0.18311\tvalidation_1-mlogloss:0.55667\tvalidation_1-merror:0.19775\n",
      "[149]\tvalidation_0-mlogloss:0.53910\tvalidation_0-merror:0.18307\tvalidation_1-mlogloss:0.55530\tvalidation_1-merror:0.19775\n",
      "[150]\tvalidation_0-mlogloss:0.53766\tvalidation_0-merror:0.18307\tvalidation_1-mlogloss:0.55393\tvalidation_1-merror:0.19775\n",
      "[151]\tvalidation_0-mlogloss:0.53620\tvalidation_0-merror:0.18316\tvalidation_1-mlogloss:0.55257\tvalidation_1-merror:0.19756\n",
      "[152]\tvalidation_0-mlogloss:0.53477\tvalidation_0-merror:0.18311\tvalidation_1-mlogloss:0.55123\tvalidation_1-merror:0.19756\n",
      "[153]\tvalidation_0-mlogloss:0.53337\tvalidation_0-merror:0.18311\tvalidation_1-mlogloss:0.54990\tvalidation_1-merror:0.19756\n",
      "[154]\tvalidation_0-mlogloss:0.53197\tvalidation_0-merror:0.18307\tvalidation_1-mlogloss:0.54857\tvalidation_1-merror:0.19756\n",
      "[155]\tvalidation_0-mlogloss:0.53058\tvalidation_0-merror:0.18307\tvalidation_1-mlogloss:0.54726\tvalidation_1-merror:0.19775\n",
      "[156]\tvalidation_0-mlogloss:0.52921\tvalidation_0-merror:0.18311\tvalidation_1-mlogloss:0.54597\tvalidation_1-merror:0.19775\n",
      "[157]\tvalidation_0-mlogloss:0.52786\tvalidation_0-merror:0.18316\tvalidation_1-mlogloss:0.54469\tvalidation_1-merror:0.19736\n",
      "[158]\tvalidation_0-mlogloss:0.52651\tvalidation_0-merror:0.18229\tvalidation_1-mlogloss:0.54340\tvalidation_1-merror:0.19639\n",
      "[159]\tvalidation_0-mlogloss:0.52511\tvalidation_0-merror:0.18210\tvalidation_1-mlogloss:0.54212\tvalidation_1-merror:0.19659\n",
      "[160]\tvalidation_0-mlogloss:0.52377\tvalidation_0-merror:0.18215\tvalidation_1-mlogloss:0.54086\tvalidation_1-merror:0.19639\n",
      "[161]\tvalidation_0-mlogloss:0.52245\tvalidation_0-merror:0.18219\tvalidation_1-mlogloss:0.53962\tvalidation_1-merror:0.19639\n",
      "[162]\tvalidation_0-mlogloss:0.52111\tvalidation_0-merror:0.18229\tvalidation_1-mlogloss:0.53836\tvalidation_1-merror:0.19639\n",
      "[163]\tvalidation_0-mlogloss:0.51978\tvalidation_0-merror:0.18268\tvalidation_1-mlogloss:0.53711\tvalidation_1-merror:0.19639\n",
      "[164]\tvalidation_0-mlogloss:0.51848\tvalidation_0-merror:0.18248\tvalidation_1-mlogloss:0.53590\tvalidation_1-merror:0.19659\n",
      "[165]\tvalidation_0-mlogloss:0.51719\tvalidation_0-merror:0.18248\tvalidation_1-mlogloss:0.53469\tvalidation_1-merror:0.19659\n",
      "[166]\tvalidation_0-mlogloss:0.51593\tvalidation_0-merror:0.18219\tvalidation_1-mlogloss:0.53351\tvalidation_1-merror:0.19659\n",
      "[167]\tvalidation_0-mlogloss:0.51467\tvalidation_0-merror:0.18185\tvalidation_1-mlogloss:0.53234\tvalidation_1-merror:0.19659\n",
      "[168]\tvalidation_0-mlogloss:0.51344\tvalidation_0-merror:0.18146\tvalidation_1-mlogloss:0.53119\tvalidation_1-merror:0.19659\n",
      "[169]\tvalidation_0-mlogloss:0.51220\tvalidation_0-merror:0.18151\tvalidation_1-mlogloss:0.53004\tvalidation_1-merror:0.19697\n",
      "[170]\tvalidation_0-mlogloss:0.51097\tvalidation_0-merror:0.18113\tvalidation_1-mlogloss:0.52892\tvalidation_1-merror:0.19678\n",
      "[171]\tvalidation_0-mlogloss:0.50976\tvalidation_0-merror:0.18108\tvalidation_1-mlogloss:0.52780\tvalidation_1-merror:0.19678\n",
      "[172]\tvalidation_0-mlogloss:0.50856\tvalidation_0-merror:0.18079\tvalidation_1-mlogloss:0.52668\tvalidation_1-merror:0.19639\n",
      "[173]\tvalidation_0-mlogloss:0.50737\tvalidation_0-merror:0.18059\tvalidation_1-mlogloss:0.52559\tvalidation_1-merror:0.19639\n",
      "[174]\tvalidation_0-mlogloss:0.50620\tvalidation_0-merror:0.18064\tvalidation_1-mlogloss:0.52450\tvalidation_1-merror:0.19620\n",
      "[175]\tvalidation_0-mlogloss:0.50506\tvalidation_0-merror:0.18059\tvalidation_1-mlogloss:0.52344\tvalidation_1-merror:0.19561\n",
      "[176]\tvalidation_0-mlogloss:0.50387\tvalidation_0-merror:0.18059\tvalidation_1-mlogloss:0.52236\tvalidation_1-merror:0.19561\n",
      "[177]\tvalidation_0-mlogloss:0.50274\tvalidation_0-merror:0.18020\tvalidation_1-mlogloss:0.52131\tvalidation_1-merror:0.19523\n",
      "[178]\tvalidation_0-mlogloss:0.50162\tvalidation_0-merror:0.18016\tvalidation_1-mlogloss:0.52025\tvalidation_1-merror:0.19484\n",
      "[179]\tvalidation_0-mlogloss:0.50050\tvalidation_0-merror:0.17991\tvalidation_1-mlogloss:0.51920\tvalidation_1-merror:0.19503\n",
      "[180]\tvalidation_0-mlogloss:0.49943\tvalidation_0-merror:0.17919\tvalidation_1-mlogloss:0.51818\tvalidation_1-merror:0.19426\n",
      "[181]\tvalidation_0-mlogloss:0.49835\tvalidation_0-merror:0.17914\tvalidation_1-mlogloss:0.51716\tvalidation_1-merror:0.19445\n",
      "[182]\tvalidation_0-mlogloss:0.49728\tvalidation_0-merror:0.17909\tvalidation_1-mlogloss:0.51615\tvalidation_1-merror:0.19445\n",
      "[183]\tvalidation_0-mlogloss:0.49624\tvalidation_0-merror:0.17909\tvalidation_1-mlogloss:0.51515\tvalidation_1-merror:0.19445\n",
      "[184]\tvalidation_0-mlogloss:0.49515\tvalidation_0-merror:0.17914\tvalidation_1-mlogloss:0.51414\tvalidation_1-merror:0.19484\n",
      "[185]\tvalidation_0-mlogloss:0.49413\tvalidation_0-merror:0.17909\tvalidation_1-mlogloss:0.51318\tvalidation_1-merror:0.19503\n",
      "[186]\tvalidation_0-mlogloss:0.49311\tvalidation_0-merror:0.17889\tvalidation_1-mlogloss:0.51220\tvalidation_1-merror:0.19464\n",
      "[187]\tvalidation_0-mlogloss:0.49206\tvalidation_0-merror:0.17880\tvalidation_1-mlogloss:0.51123\tvalidation_1-merror:0.19542\n",
      "[188]\tvalidation_0-mlogloss:0.49106\tvalidation_0-merror:0.17855\tvalidation_1-mlogloss:0.51030\tvalidation_1-merror:0.19542\n",
      "[189]\tvalidation_0-mlogloss:0.49004\tvalidation_0-merror:0.17855\tvalidation_1-mlogloss:0.50934\tvalidation_1-merror:0.19523\n",
      "[190]\tvalidation_0-mlogloss:0.48903\tvalidation_0-merror:0.17855\tvalidation_1-mlogloss:0.50841\tvalidation_1-merror:0.19561\n",
      "[191]\tvalidation_0-mlogloss:0.48802\tvalidation_0-merror:0.17865\tvalidation_1-mlogloss:0.50749\tvalidation_1-merror:0.19542\n",
      "[192]\tvalidation_0-mlogloss:0.48703\tvalidation_0-merror:0.17855\tvalidation_1-mlogloss:0.50656\tvalidation_1-merror:0.19503\n",
      "[193]\tvalidation_0-mlogloss:0.48605\tvalidation_0-merror:0.17855\tvalidation_1-mlogloss:0.50565\tvalidation_1-merror:0.19503\n",
      "[194]\tvalidation_0-mlogloss:0.48508\tvalidation_0-merror:0.17851\tvalidation_1-mlogloss:0.50476\tvalidation_1-merror:0.19542\n",
      "[195]\tvalidation_0-mlogloss:0.48408\tvalidation_0-merror:0.17846\tvalidation_1-mlogloss:0.50384\tvalidation_1-merror:0.19561\n",
      "[196]\tvalidation_0-mlogloss:0.48313\tvalidation_0-merror:0.17851\tvalidation_1-mlogloss:0.50295\tvalidation_1-merror:0.19542\n",
      "[197]\tvalidation_0-mlogloss:0.48217\tvalidation_0-merror:0.17841\tvalidation_1-mlogloss:0.50207\tvalidation_1-merror:0.19542\n",
      "[198]\tvalidation_0-mlogloss:0.48122\tvalidation_0-merror:0.17821\tvalidation_1-mlogloss:0.50117\tvalidation_1-merror:0.19581\n",
      "[199]\tvalidation_0-mlogloss:0.48028\tvalidation_0-merror:0.17817\tvalidation_1-mlogloss:0.50030\tvalidation_1-merror:0.19581\n"
     ]
    },
    {
     "data": {
      "text/plain": [
       "XGBClassifier(base_score=0.5, booster='gbtree', colsample_bylevel=1,\n",
       "              colsample_bynode=1, colsample_bytree=1, eta=0.01,\n",
       "              eval_metric=['mlogloss', 'merror'], gamma=0, gpu_id=-1,\n",
       "              importance_type='gain', interaction_constraints='',\n",
       "              learning_rate=0.00999999978, max_delta_step=0, max_depth=5,\n",
       "              min_child_weight=1, missing=nan, monotone_constraints='()',\n",
       "              n_estimators=200, n_jobs=8, num_parallel_tree=1,\n",
       "              objective='multi:softprob', random_state=0, reg_alpha=0,\n",
       "              reg_lambda=1, scale_pos_weight=None, subsample=1,\n",
       "              tree_method='hist', use_label_encoder=False,\n",
       "              validate_parameters=1, verbosity=0)"
      ]
     },
     "execution_count": 23,
     "metadata": {},
     "output_type": "execute_result"
    }
   ],
   "source": [
    "xgb.fit(\n",
    "    x_train,\n",
    "    y_train.argmax(axis=1),\n",
    "    eval_set=[\n",
    "        (x_train, y_train.argmax(axis=1)),\n",
    "        (x_validation, y_validation.argmax(axis=1))\n",
    "    ]\n",
    ")"
   ]
  },
  {
   "cell_type": "code",
   "execution_count": 25,
   "metadata": {},
   "outputs": [
    {
     "data": {
      "image/png": "[encoded data removed]",
      "text/plain": [
       "<Figure size 1152x288 with 2 Axes>"
      ]
     },
     "metadata": {
      "needs_background": "light"
     },
     "output_type": "display_data"
    }
   ],
   "source": [
    "results = xgb.evals_result()\n",
    "xx = np.arange(len(results[\"validation_0\"][\"mlogloss\"]))\n",
    "\n",
    "fig, ax = plt.subplots(1, 2)\n",
    "ax[0].plot(xx, results[\"validation_0\"][\"mlogloss\"])\n",
    "ax[0].plot(xx, results[\"validation_1\"][\"mlogloss\"])\n",
    "ax[0].set_title(\"XGBoost_loss\")\n",
    "ax[0].legend([\"train\", \"validation\"])\n",
    "ax[1].plot(xx, results[\"validation_0\"][\"merror\"])\n",
    "ax[1].plot(xx, results[\"validation_1\"][\"merror\"])\n",
    "ax[1].set_title(\"XGBoost_error\")\n",
    "ax[1].legend([\"train\", \"validation\"])\n",
    "plt.show()"
   ]
  },
  {
   "cell_type": "code",
   "execution_count": 26,
   "metadata": {},
   "outputs": [
    {
     "name": "stdout",
     "output_type": "stream",
     "text": [
      "unique pred:  [0 1 2]\n",
      "frequency pred:  [6250  121  949]\n"
     ]
    }
   ],
   "source": [
    "pred_xgb = xgb.predict(x_test)\n",
    "u_xgb, c_xgb = np.unique(pred_xgb, return_counts=True)\n",
    "print(\"unique pred: \", u_xgb)\n",
    "print(\"frequency pred: \", c_xgb)"
   ]
  },
  {
   "cell_type": "markdown",
   "metadata": {},
   "source": [
    "## sk-learn"
   ]
  },
  {
   "cell_type": "markdown",
   "metadata": {},
   "source": [
    "Using the sklearn implementation to compare achievable accuracy and loss"
   ]
  },
  {
   "cell_type": "code",
   "execution_count": 27,
   "metadata": {},
   "outputs": [],
   "source": [
    "from sklearn.linear_model import LogisticRegression\n",
    "from sklearn.metrics import accuracy_score"
   ]
  },
  {
   "cell_type": "code",
   "execution_count": 29,
   "metadata": {},
   "outputs": [],
   "source": [
    "sk_model = LogisticRegression(penalty=\"none\", multi_class=\"multinomial\", max_iter=100, solver=\"lbfgs\", verbose=1)"
   ]
  },
  {
   "cell_type": "code",
   "execution_count": 30,
   "metadata": {},
   "outputs": [
    {
     "name": "stderr",
     "output_type": "stream",
     "text": [
      "[Parallel(n_jobs=1)]: Using backend SequentialBackend with 1 concurrent workers.\n",
      "C:\\Users\\TJ\\miniconda3\\lib\\site-packages\\sklearn\\linear_model\\_logistic.py:763: ConvergenceWarning: lbfgs failed to converge (status=1):\n",
      "STOP: TOTAL NO. of ITERATIONS REACHED LIMIT.\n",
      "\n",
      "Increase the number of iterations (max_iter) or scale the data as shown in:\n",
      "    https://scikit-learn.org/stable/modules/preprocessing.html\n",
      "Please also refer to the documentation for alternative solver options:\n",
      "    https://scikit-learn.org/stable/modules/linear_model.html#logistic-regression\n",
      "  n_iter_i = _check_optimize_result(\n",
      "[Parallel(n_jobs=1)]: Done   1 out of   1 | elapsed:    0.3s finished\n"
     ]
    },
    {
     "data": {
      "text/plain": [
       "LogisticRegression(multi_class='multinomial', penalty='none', verbose=1)"
      ]
     },
     "execution_count": 30,
     "metadata": {},
     "output_type": "execute_result"
    }
   ],
   "source": [
    "sk_model.fit(x_train, y_train.argmax(axis=1))"
   ]
  },
  {
   "cell_type": "markdown",
   "metadata": {},
   "source": [
    "# Producing Stats"
   ]
  },
  {
   "cell_type": "code",
   "execution_count": 33,
   "metadata": {},
   "outputs": [],
   "source": [
    "multi1 ={\n",
    "    \"eta\": 0.05,\n",
    "    \"n_steps\": 30,\n",
    "    \"class0\": 5992,\n",
    "    \"class1\": 14,\n",
    "    \"class2\": 1314,\n",
    "    \"train_loss\": 0.7741,\n",
    "    \"train_error\": 0.2623,\n",
    "    \"val_loss\": 0.7717,\n",
    "    \"val_error\": 0.2610,\n",
    "}\n",
    "multi2 = {\n",
    "    \"eta\": 0.05,\n",
    "    \"n_steps\": 75,\n",
    "    \"class0\": 6737,\n",
    "    \"class1\": 0,\n",
    "    \"class2\": 583,\n",
    "    \"train_loss\": 0.6367,\n",
    "    \"train_error\": 0.2393,\n",
    "    \"val_loss\": 0.6331,\n",
    "    \"val_error\": 0.2389,\n",
    "}\n",
    "multi3 = {\n",
    "    \"eta\": 0.05,\n",
    "    \"n_steps\": 100,\n",
    "    \"class0\": 6828,\n",
    "    \"class1\": 0,\n",
    "    \"class2\": 492,\n",
    "    \"train_loss\": 0.6059,\n",
    "    \"train_error\": 0.2383,\n",
    "    \"val_loss\": 0.6018,\n",
    "    \"val_error\": 0.2381,\n",
    "}\n",
    "multi_df = pd.DataFrame().from_records([multi1, multi2, multi3])"
   ]
  },
  {
   "cell_type": "code",
   "execution_count": 34,
   "metadata": {},
   "outputs": [],
   "source": [
    "ovo1 = {\n",
    "    \"eta\": 0.05,\n",
    "    \"n_steps\": 30,\n",
    "    \"class0\": 4182,\n",
    "    \"class1\": 746,\n",
    "    \"class2\": 2392,\n",
    "    \"(0, 1) loss\": 0.4740,\n",
    "    \"(0, 1) error\": 0.0589,\n",
    "    \"(0, 2) loss\": 0.5663,\n",
    "    \"(0, 2) error\": 0.2417,\n",
    "    \"(1, 2) loss\": 0.3311,\n",
    "    \"(1, 2) error\": 0.0775,\n",
    "}\n",
    "ovo2 = {\n",
    "    \"eta\": 0.05,\n",
    "    \"n_steps\": 70,\n",
    "    \"class0\": 5612,\n",
    "    \"class1\": 70,\n",
    "    \"class2\": 1638,\n",
    "    \"(0, 1) loss\": 0.3341,\n",
    "    \"(0, 1) error\": 0.0583,\n",
    "    \"(0, 2) loss\": 0.4957,\n",
    "    \"(0, 2) error\": 0.2080,\n",
    "    \"(1, 2) loss\": 0.2612,\n",
    "    \"(1, 2) error\": 0.0622,\n",
    "}\n",
    "ovo3 = {\n",
    "    \"eta\": 0.05,\n",
    "    \"n_steps\": 100,\n",
    "    \"class0\": 5983,\n",
    "    \"class1\": 34,\n",
    "    \"class2\": 1303,\n",
    "    \"(0, 1) loss\": 0.2944,\n",
    "    \"(0, 1) error\": 0.0583,\n",
    "    \"(0, 2) loss\": 0.4759,\n",
    "    \"(0, 2) error\": 0.2050,\n",
    "    \"(1, 2) loss\": 0.2414,\n",
    "    \"(1, 2) error\": 0.0615,\n",
    "}\n",
    "ovo_df = pd.DataFrame().from_records([ovo1, ovo2, ovo3])"
   ]
  },
  {
   "cell_type": "code",
   "execution_count": 35,
   "metadata": {},
   "outputs": [],
   "source": [
    "xgb1 ={\n",
    "    \"eta\": 0.05,\n",
    "    \"n_steps\": 30,\n",
    "    \"class0\": 6370,\n",
    "    \"class1\": 148,\n",
    "    \"class2\": 802,\n",
    "    \"train_loss\": 0.5647,\n",
    "    \"train_error\": 0.2010,\n",
    "    \"val_loss\": 0.5720,\n",
    "    \"val_error\": 0.2012,\n",
    "}\n",
    "xgb2 = {\n",
    "    \"eta\": 0.05,\n",
    "    \"n_steps\": 75,\n",
    "    \"class0\": 6301,\n",
    "    \"class1\": 134,\n",
    "    \"class2\": 885,\n",
    "    \"train_loss\": 0.4310,\n",
    "    \"train_error\": 0.1884,\n",
    "    \"val_loss\": 0.4438,\n",
    "    \"val_error\": 0.1923,\n",
    "}\n",
    "xgb3 = {\n",
    "    \"eta\": 0.05,\n",
    "    \"n_steps\": 100,\n",
    "    \"class0\": 6281,\n",
    "    \"class1\": 139,\n",
    "    \"class2\": 900,\n",
    "    \"train_loss\": 0.4042,\n",
    "    \"train_error\": 0.1828,\n",
    "    \"val_loss\": 0.4196,\n",
    "    \"val_error\": 0.1890,\n",
    "}\n",
    "xgb_df = pd.DataFrame().from_dict([xgb1, xgb2, xgb3])"
   ]
  },
  {
   "cell_type": "markdown",
   "metadata": {},
   "source": [
    "# Export results"
   ]
  },
  {
   "cell_type": "code",
   "execution_count": 36,
   "metadata": {},
   "outputs": [],
   "source": [
    "def save_pred(y, sub_id):\n",
    "    original_index = test_df.index\n",
    "    output_df = pd.DataFrame(y, index=original_index, columns=[\"LABELS\"], dtype=int)\n",
    "    output_df.to_csv(f\"submission{sub_id}.csv\")"
   ]
  },
  {
   "cell_type": "code",
   "execution_count": null,
   "metadata": {},
   "outputs": [],
   "source": [
    "save_pred(pred_xgb, sub_id=18)"
   ]
  },
  {
   "cell_type": "markdown",
   "metadata": {},
   "source": [
    "# Compare submissions"
   ]
  },
  {
   "cell_type": "code",
   "execution_count": 37,
   "metadata": {},
   "outputs": [],
   "source": [
    "def load_submissions():\n",
    "    fnames = [f for f in os.listdir(\".\") if f.startswith(\"submission\")]\n",
    "    df = pd.DataFrame()\n",
    "    \n",
    "    for idx, f in enumerate(fnames):\n",
    "        sub = pd.read_csv(f)\n",
    "        df[idx] = sub.LABELS\n",
    "        \n",
    "    return df"
   ]
  },
  {
   "cell_type": "code",
   "execution_count": 38,
   "metadata": {},
   "outputs": [],
   "source": [
    "sub_df = load_submissions()"
   ]
  }
 ],
 "metadata": {
  "interpreter": {
   "hash": "de1e15777db83a4a38311ecc646d02ddde9c0d3bc45a52b7bb762b687e5b017a"
  },
  "kernelspec": {
   "display_name": "Python 3.9.1 64-bit ('base': conda)",
   "name": "python3"
  },
  "language_info": {
   "codemirror_mode": {
    "name": "ipython",
    "version": 3
   },
   "file_extension": ".py",
   "mimetype": "text/x-python",
   "name": "python",
   "nbconvert_exporter": "python",
   "pygments_lexer": "ipython3",
   "version": "3.9.1"
  },
  "orig_nbformat": 4
 },
 "nbformat": 4,
 "nbformat_minor": 2
}
